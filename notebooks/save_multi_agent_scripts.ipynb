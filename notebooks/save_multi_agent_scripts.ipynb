{
  "cells": [
    {
      "cell_type": "markdown",
      "metadata": {
        "vscode": {
          "languageId": "raw"
        }
      },
      "source": [
        "# Save Multi-Agent Scripts\n",
        "\n",
        "This notebook reads all Python scripts from the `src/predictors/multi_agent/` directory (excluding archive and tools folders) and saves them to a single text file with clear separation between files.\n"
      ]
    },
    {
      "cell_type": "code",
      "execution_count": null,
      "metadata": {},
      "outputs": [],
      "source": [
        "import os\n",
        "from pathlib import Path\n",
        "\n",
        "# Define the source directory and output file\n",
        "src_dir = Path(\"../src/predictors/multi_agent\")\n",
        "output_file = \"multi_agent_scripts.txt\"\n",
        "\n",
        "# List of files to exclude\n",
        "exclude_dirs = [\"archive\", \"tools\", \"__pycache__\"]\n",
        "\n",
        "def read_and_save_scripts():\n",
        "    # Create a list to store all file contents\n",
        "    all_contents = []\n",
        "    \n",
        "    # Walk through the directory\n",
        "    for root, dirs, files in os.walk(src_dir):\n",
        "        # Remove excluded directories\n",
        "        dirs[:] = [d for d in dirs if d not in exclude_dirs]\n",
        "        \n",
        "        for file in files:\n",
        "            if file.endswith('.py'):\n",
        "                file_path = Path(root) / file\n",
        "                \n",
        "                # Read the file content\n",
        "                with open(file_path, 'r') as f:\n",
        "                    content = f.read()\n",
        "                \n",
        "                # Create a header for this file\n",
        "                header = f\"\\n{'='*80}\\n\"\n",
        "                header += f\"File: {file_path.relative_to(src_dir)}\\n\"\n",
        "                header += f\"{'='*80}\\n\"\n",
        "                \n",
        "                # Add header and content to our collection\n",
        "                all_contents.append(header + content)\n",
        "    \n",
        "    # Write everything to the output file\n",
        "    with open(output_file, 'w') as f:\n",
        "        f.write(\"\\n\".join(all_contents))\n",
        "    \n",
        "    return f\"Scripts have been saved to {output_file}\"\n",
        "\n",
        "# Execute the function\n",
        "read_and_save_scripts()\n"
      ]
    }
  ],
  "metadata": {
    "language_info": {
      "name": "python"
    }
  },
  "nbformat": 4,
  "nbformat_minor": 2
}
